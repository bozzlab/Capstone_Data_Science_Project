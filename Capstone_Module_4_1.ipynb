{
 "cells": [
  {
   "cell_type": "markdown",
   "metadata": {},
   "source": [
    "# Introduction / Business Problem\n"
   ]
  },
  {
   "cell_type": "markdown",
   "metadata": {},
   "source": [
    "After I learned, practice and explored the dataset from this course. Now that makes me to interest this city (Toronto). So I would like to explore more than a recent assignment. And my purpose is \" Where the place to setup/build a new office and co-working space in Toronto\". This topic was interesting. Assume we are start-up or inverter. We need to know a place and location that are very comfortable for us, like nearby office should have a place such as Shopping Mall, Gym, Restaurateurs, Canteen.\n",
    "\n",
    "In this project, we will try to build a feature for recommendation engine. By the Cluster and Segmention."
   ]
  },
  {
   "cell_type": "markdown",
   "metadata": {},
   "source": [
    "# Data"
   ]
  },
  {
   "cell_type": "markdown",
   "metadata": {},
   "source": [
    "Now we have understood the purpose. It is time to analyze data for it. We will be using List_of_postal_codes_of_Canada from Wikipedia. It same recent assignment. I will use an old data, But try to explore new borough (not Downtown). to practice more analytic skill. And the method is understanding the data and preparing it for Clustering model. The pre-process step I will use the same method from the last assignment. But normalization step I will try to make effective fold of data. To explore a data relation the modelling. How many fold, it useful for this model or method. Ensure I will use location to visualize from API Foursquare."
   ]
  }
 ],
 "metadata": {
  "kernelspec": {
   "display_name": "Python 3",
   "language": "python",
   "name": "python3"
  },
  "language_info": {
   "codemirror_mode": {
    "name": "ipython",
    "version": 3
   },
   "file_extension": ".py",
   "mimetype": "text/x-python",
   "name": "python",
   "nbconvert_exporter": "python",
   "pygments_lexer": "ipython3",
   "version": "3.7.0"
  }
 },
 "nbformat": 4,
 "nbformat_minor": 2
}
